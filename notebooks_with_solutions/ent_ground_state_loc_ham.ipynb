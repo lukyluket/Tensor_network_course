{
 "cells": [
  {
   "cell_type": "markdown",
   "id": "83ce4b20-ac90-40b1-b7f8-a9b149b936f2",
   "metadata": {},
   "source": [
    "# Building the Hamiltonian for large systems\n",
    "We now can try to describe a concrete example. Before doing this we need to be able to build Hamiltonians  and learn how to diagonalize it \n",
    "Fist build a $N\\times  N$ Hermitian matrix. (E.g. set N=2)"
   ]
  },
  {
   "cell_type": "code",
   "execution_count": null,
   "id": "1436d2f8",
   "metadata": {},
   "outputs": [],
   "source": []
  },
  {
   "cell_type": "markdown",
   "id": "cb46cbfa-2702-449c-a2ec-32ae85037101",
   "metadata": {},
   "source": [
    "## Eigenvectors\n",
    "Now you can diagonalize it, and extract eigenvectors and eigenvalues, check that you can get back the original matrix \n",
    "$M = U m U^{\\dagger}$\n",
    "\n",
    "and that \n",
    "$M\\vec{u}_1 = m_1 \\vec{u}_1$\n"
   ]
  },
  {
   "cell_type": "code",
   "execution_count": null,
   "id": "4c362a92",
   "metadata": {},
   "outputs": [],
   "source": []
  },
  {
   "cell_type": "markdown",
   "id": "981c7d7a-861e-41a1-8ecd-fd6e669177d2",
   "metadata": {},
   "source": [
    "## Local Hamiltonian\n",
    "Now we can study our first many body system, the Ising model in transverse field for  N=3\n",
    "  spins, the Hamiltonian reads  H=−σ1x⊗σ2x−σ2x⊗σ3x−σ3x⊗σ1x+λ(σ1z+σ2z+σ3z)\n",
    " , build it for several values of  λ\n",
    "  (e.g. 20 points in the interval  [0,10]\n",
    " ) and plot the ground state energy for every value."
   ]
  },
  {
   "cell_type": "code",
   "execution_count": null,
   "id": "397f6697",
   "metadata": {},
   "outputs": [],
   "source": []
  },
  {
   "cell_type": "markdown",
   "id": "d960ea5c-9720-409a-a4d7-0db06b632a82",
   "metadata": {},
   "source": [
    "## Increasing the size\n",
    "We now move to the generic $N$ we do it recursively notice that going from $N$ to $N+1$ you need to perform a simple step\n",
    "We wrap the above code into the function by using the \n",
    "\n",
    "def function():\n",
    "return \n",
    "\n",
    "statements, we want to provide, $N$ and $\\lambda$ as arguments and obtain the energies, the eigenvectors and the Hamiltonian as a result of our function evaluation\n"
   ]
  },
  {
   "cell_type": "code",
   "execution_count": null,
   "id": "06a80111",
   "metadata": {},
   "outputs": [],
   "source": []
  },
  {
   "cell_type": "markdown",
   "id": "c73433bd-dad0-48f4-990a-b7a4c77fb535",
   "metadata": {},
   "source": [
    "## The spectral flow\n",
    "Now in the following we use the function just defined to see the first 10 energy levels of the spectrum for several values of the field for fixed $N=10$"
   ]
  },
  {
   "cell_type": "code",
   "execution_count": null,
   "id": "71d2a816",
   "metadata": {},
   "outputs": [],
   "source": []
  },
  {
   "cell_type": "markdown",
   "id": "daf2658a-0e70-4f08-9834-dff6694cf13a",
   "metadata": {},
   "source": [
    "## Entanglement\n",
    "\n",
    "We now focus on the entanglement of a bipartition of the system in two halves, for that we need to get the spectrum of $$\\rho_A = tr_B|\\psi\\rangle \\langle \\psi |_{AB}$$\n",
    "and its spectrum.\n",
    "\n",
    "Equivalently remebering the relation between eigenvalue and singular value one can construc the spectrum of the singular value obtained by reshaping the vector to a matrix made by the legs in $A$ vs the legs in $B$\n",
    "\n",
    "Since $A$ and $B$ are half of the system, it means that we want to reshape a vector of size $2^N$ into a matrix of size \n",
    "$2^N/2 \\times 2^N/2$. That is the matrix we want the svd of. \n",
    "\n",
    "Finally the eigenvector of $\\rho$, $\\lambda_i = s_i^2$ with $s_i$ one of the svds. \n",
    "\n",
    "\n",
    "Finally the entanglement entropy is computed by \n",
    "$$S= -\\sum_i\\left( \\lambda_i \\log(\\lambda_i)\\right)$$\n",
    "\n",
    "You should compute it for different system sizes $N$ and produce a plot of $S$ vs $N$. \n",
    "\n",
    "How does it look like as a function of $N$? \n",
    "\n",
    "Can you compare it with the one for random states seen in class?\n",
    "\n",
    "\n",
    "Rember that the Hamiltonian $H$ depends on a parameter, check different values of the parameter, does the entropy change?"
   ]
  },
  {
   "cell_type": "code",
   "execution_count": null,
   "id": "0c7d2201",
   "metadata": {},
   "outputs": [],
   "source": []
  }
 ],
 "metadata": {
  "kernelspec": {
   "display_name": "Python 3 (ipykernel)",
   "language": "python",
   "name": "python3"
  },
  "language_info": {
   "codemirror_mode": {
    "name": "ipython",
    "version": 3
   },
   "file_extension": ".py",
   "mimetype": "text/x-python",
   "name": "python",
   "nbconvert_exporter": "python",
   "pygments_lexer": "ipython3",
   "version": "3.9.13"
  }
 },
 "nbformat": 4,
 "nbformat_minor": 5
}
