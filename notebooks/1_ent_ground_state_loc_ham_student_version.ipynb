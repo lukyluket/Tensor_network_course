{
 "cells": [
  {
   "cell_type": "markdown",
   "id": "83ce4b20-ac90-40b1-b7f8-a9b149b936f2",
   "metadata": {},
   "source": [
    "# Building the Hamiltonian for large systems\n",
    "We now can try to describe a concrete example. Before doing this we need to be able to build Hamiltonians  and learn how to diagonalize it \n",
    "Fist build a $N\\times  N$ Hermitian matrix. (E.g. set N=2)"
   ]
  },
  {
   "cell_type": "code",
   "execution_count": null,
   "id": "866577f4",
   "metadata": {},
   "outputs": [],
   "source": [
    "# Complete the code here as per the instructions provided above."
   ]
  },
  {
   "cell_type": "markdown",
   "id": "cb46cbfa-2702-449c-a2ec-32ae85037101",
   "metadata": {},
   "source": [
    "## Eigenvectors\n",
    "Now you can diagonalize it, and extract eigenvectors and eigenvalues, check that you can get back the original matrix \n",
    "$M = U m U^{\\dagger}$\n",
    "\n",
    "and that \n",
    "$M\\vec{u}_1 = m_1 \\vec{u}_1$\n"
   ]
  },
  {
   "cell_type": "code",
   "execution_count": null,
   "id": "7d8bd744",
   "metadata": {},
   "outputs": [],
   "source": [
    "# Complete the code here as per the instructions provided above."
   ]
  },
  {
   "cell_type": "markdown",
   "id": "981c7d7a-861e-41a1-8ecd-fd6e669177d2",
   "metadata": {},
   "source": [
    "## Local Hamiltonian\n",
    "Now we can study our first many body system, the Ising model in transverse field for  N=3\n",
    "  spins, the Hamiltonian reads  H=−σ1x⊗σ2x−σ2x⊗σ3x−σ3x⊗σ1x+λ(σ1z+σ2z+σ3z)\n",
    " , build it for several values of  λ\n",
    "  (e.g. 20 points in the interval  [0,10]\n",
    " ) and plot the ground state energy for every value."
   ]
  },
  {
   "cell_type": "code",
   "execution_count": null,
   "id": "f435c15d",
   "metadata": {},
   "outputs": [],
   "source": [
    "# Complete the code here as per the instructions provided above."
   ]
  },
  {
   "cell_type": "markdown",
   "id": "d960ea5c-9720-409a-a4d7-0db06b632a82",
   "metadata": {},
   "source": [
    "## Increasing the size\n",
    "We now move to the generic $N$ we do it recursively notice that going from $N$ to $N+1$ you need to perform a simple step\n",
    "We wrap the above code into the function by using the \n",
    "\n",
    "def function():\n",
    "return \n",
    "\n",
    "statements, we want to provide, $N$ and $\\lambda$ as arguments and obtain the energies, the eigenvectors and the Hamiltonian as a result of our function evaluation\n"
   ]
  },
  {
   "cell_type": "code",
   "execution_count": null,
   "id": "35165ffd",
   "metadata": {},
   "outputs": [],
   "source": [
    "# Complete the code here as per the instructions provided above."
   ]
  },
  {
   "cell_type": "markdown",
   "id": "c73433bd-dad0-48f4-990a-b7a4c77fb535",
   "metadata": {},
   "source": [
    "## The spectral flow\n",
    "Now in the following we use the function just defined to see the first 10 energy levels of the spectrum for several values of the field for fixed $N=10$"
   ]
  },
  {
   "cell_type": "code",
   "execution_count": null,
   "id": "a4b8a8e3",
   "metadata": {},
   "outputs": [],
   "source": [
    "# Complete the code here as per the instructions provided above."
   ]
  },
  {
   "cell_type": "markdown",
   "id": "648d2d53",
   "metadata": {},
   "source": [
    "The previous plot contains a lot of information, First of all you can clearly see that on the extreme left, eigenvalues organize in bands, separated by a gap. For the size value we consider the second and third band start to merge at around $\\lambda= 0.5$. The first and the second band are still well separated, thought we observe that something happens in the first band at around $\\lambda=1$. The two energy leves that constitute that band, start to separate..... \n",
    "This is a hint of the presence of a quantum phase transition, that breaks the symmetry of the system. Furthermore, if you look at the gap between the first and the second band, we see that around $\\lambda=1$ this gaps is minimal...\n",
    " We will further analyze such a phenomenon in the next section"
   ]
  },
  {
   "cell_type": "markdown",
   "id": "daf2658a-0e70-4f08-9834-dff6694cf13a",
   "metadata": {},
   "source": [
    "## Entanglement\n",
    "\n",
    "We now focus on the entanglement of a bipartition of the system in two halves, for that we need to get the spectrum of $$\\rho_A = tr_B|\\psi\\rangle \\langle \\psi |_{AB}$$\n",
    "and its spectrum.\n",
    "\n",
    "Equivalently remebering the relation between eigenvalue and singular value one can construc the spectrum of the singular value obtained by reshaping the vector to a matrix made by the legs in $A$ vs the legs in $B$\n",
    "\n",
    "Since $A$ and $B$ are half of the system, it means that we want to reshape a vector of size $2^N$ into a matrix of size \n",
    "$2^N/2 \\times 2^N/2$. That is the matrix we want the svd of. \n",
    "\n",
    "Finally the eigenvector of $\\rho$, $\\lambda_i = s_i^2$ with $s_i$ one of the svds. \n",
    "\n",
    "\n",
    "Finally the entanglement entropy is computed by \n",
    "$$S= -\\sum_i\\left( \\lambda_i \\log(\\lambda_i)\\right)$$\n",
    "\n",
    "You should compute it for different system sizes $N$ and produce a plot of $S$ vs $N$. \n",
    "\n",
    "How does it look like as a function of $N$? \n",
    "\n",
    "Can you compare it with the one for random states seen in class?\n",
    "\n",
    "\n",
    "Rember that the Hamiltonian $H$ depends on a parameter, check different values of the parameter, does the entropy change?"
   ]
  },
  {
   "cell_type": "code",
   "execution_count": null,
   "id": "febed99f",
   "metadata": {},
   "outputs": [],
   "source": [
    "# Complete the code here as per the instructions provided above."
   ]
  },
  {
   "cell_type": "markdown",
   "id": "eccef54c",
   "metadata": {},
   "source": [
    "Try to run the above  code for different values of $\\lambda$, do you see any difference? in how does the functional form of the entropy dependence on $N$ changes as we move  $\\lambda$?\n",
    "\n"
   ]
  },
  {
   "cell_type": "code",
   "execution_count": null,
   "id": "22ac48f6",
   "metadata": {},
   "outputs": [],
   "source": [
    "# Complete the code here as per the instructions provided above."
   ]
  },
  {
   "cell_type": "markdown",
   "id": "fca9617c",
   "metadata": {},
   "source": [
    "# Constructing the full, symmetry resolved dispersion relation\n",
    "We have now considered the ground state, but if we want to understand more we might want to examine the full low energy spectrum of the Hamiltonian. We will do this by constructing two other operators, the momentum and the charge, and diagonalize the three at the same time. We will also do this in two different points of the phase diagram in order to appreciate the difference. \n",
    "\n",
    "## Extracting the momentum on a ring.\n",
    "Now we can build the translation operator, that cyclically permutes all the spins along the chain:\n",
    "    \n",
    "it sends spins $1,2 \\cdots N-1, N$ into  $N, 1,2 \\cdots N-1$\n",
    "\n",
    "Again we want to create it iteratively starting from $N=2$, notice the simple recursion relation,\n"
   ]
  },
  {
   "cell_type": "code",
   "execution_count": null,
   "id": "5a59992d",
   "metadata": {},
   "outputs": [],
   "source": [
    "# Complete the code here as per the instructions provided above."
   ]
  },
  {
   "cell_type": "markdown",
   "id": "eb67797a",
   "metadata": {},
   "source": [
    "Plot the eigenvalues on the complex plane, how do they look like?"
   ]
  },
  {
   "cell_type": "code",
   "execution_count": null,
   "id": "fce0d863",
   "metadata": {},
   "outputs": [],
   "source": [
    "# Complete the code here as per the instructions provided above."
   ]
  },
  {
   "cell_type": "markdown",
   "id": "03fec921",
   "metadata": {},
   "source": [
    "From the plot we appreciate that they look like phases, whose logarithm is exactly the momentum we are looking for, given that $T= exp(-i K)$ where $K$ is the momentum operator we are looking for. "
   ]
  },
  {
   "cell_type": "markdown",
   "id": "d77c0ba9",
   "metadata": {},
   "source": [
    "## Extracting the charge\n",
    "Now we build a symmetry operator $S$ which is it? (Hint it is a product of Pauli matrices that needs to commute with the Hamiltonian whose eigenvalue gives the charge of the state).\n",
    "Check that the translation operator, the symmetry operator and the Hamiltonian commute."
   ]
  },
  {
   "cell_type": "code",
   "execution_count": null,
   "id": "3f3118f9",
   "metadata": {},
   "outputs": [],
   "source": [
    "# Complete the code here as per the instructions provided above."
   ]
  },
  {
   "cell_type": "markdown",
   "id": "486029ea",
   "metadata": {},
   "source": [
    "Check that the symmetry operators has only eigenvalue $\\pm 1$"
   ]
  },
  {
   "cell_type": "code",
   "execution_count": null,
   "id": "4e912ec0",
   "metadata": {},
   "outputs": [],
   "source": [
    "# Complete the code here as per the instructions provided above."
   ]
  },
  {
   "cell_type": "markdown",
   "id": "38ee161d",
   "metadata": {},
   "source": [
    "Now we want to obtain the simultaneous eigenvectors for all three operators  we want to get the spectrum with the three quantum numbers\n",
    "$|e, k , s\\rangle$\n",
    "\n",
    "$ H|e, k , s\\rangle = e |e, k , s\\rangle$\n",
    "\n",
    "$ T|e, k , s\\rangle = \\exp(ik) |e, k , s\\rangle$\n",
    "\n",
    "$ S|e, k , s\\rangle = (-1)^s |e, k , s\\rangle$\n",
    "\n",
    "The trick is to construct a linear combination of the three operators.\n",
    "You want to build the combination in such a way that the order of the eigenvalues of H is still respected and the other operators are only used to break the degeneracy\n",
    "\n",
    "e.g for $N=10$ \n",
    "$O = H +0.01*T+ 0.001*S$\n",
    "\n",
    "We only want the first eigenvectors so we will use Lanczos, that is implement in https://docs.scipy.org/doc/scipy/reference/generated/scipy.sparse.linalg.eigs.html\n",
    "\n",
    "Now we have to reconstruct the three eigenvalues we are interested in by using the matrix element of the operator in the desired eigenvealue\n",
    "\n",
    "$e = \\langle e, k , s |H |e, k , s\\rangle$\n",
    "\n",
    "$\\exp (i k ) = \\langle e, k , s |T |e, k , s\\rangle$\n",
    "\n",
    "\n",
    "$s =  \\langle e, k , s |S|e, k , s\\rangle$\n",
    "\n",
    "\n",
    "also since we are interested in $k$ we take the phase of the complex number $\\exp(ik)$ using the  cmath.phase() function, remember to import cmath,\n",
    "\n",
    "\n",
    "Finally we plot all the above information in a dispersion relation, a plot of the Energy  ($e$) versus the momentum ($k$), and use different symbols for different symmetry charges. \n",
    "\n",
    "Now we can start analyzing properties of the Hamiltonian. \n",
    "Let's first run the full code for $N=8$ and $N =12$ at $\\lambda =1$. \n",
    "\n"
   ]
  },
  {
   "cell_type": "code",
   "execution_count": null,
   "id": "35011962",
   "metadata": {},
   "outputs": [],
   "source": [
    "# Complete the code here as per the instructions provided above."
   ]
  },
  {
   "cell_type": "markdown",
   "id": "1e27be22",
   "metadata": {},
   "source": [
    "Can you spot the difference? How does the level spacing changes when $N$ increases?\n",
    "\n",
    "Now compare with similar plots for $\\lambda=0.1$"
   ]
  },
  {
   "cell_type": "code",
   "execution_count": null,
   "id": "0f0aa360",
   "metadata": {},
   "outputs": [],
   "source": [
    "# Complete the code here as per the instructions provided above."
   ]
  },
  {
   "cell_type": "markdown",
   "id": "7843d7e5",
   "metadata": {},
   "source": []
  }
 ],
 "metadata": {},
 "nbformat": 4,
 "nbformat_minor": 5
}
